{
 "cells": [
  {
   "cell_type": "markdown",
   "metadata": {},
   "source": [
    "**Materiály vznikají průběžně a jsou bez záruky - prosím o report chyb :-)**"
   ]
  },
  {
   "cell_type": "code",
   "execution_count": 9,
   "metadata": {},
   "outputs": [],
   "source": [
    "import numpy as np"
   ]
  },
  {
   "cell_type": "markdown",
   "metadata": {},
   "source": [
    "# Téma 0: BI-PST\n",
    "\n",
    "* **Cvičící:** Kamil Dedecius (A-1424)\n",
    "* **Kontakt:** A-1424, kamil.dedecius@fit.cvut.cz\n",
    "* **Konzultace:** Po předchozí domluvě mailem\n",
    "* **Materiály:** Oficiální na https://courses.fit.cvut.cz/BI-PST/, neoficiální na https://gitlab.fit.cvut.cz/dedeckam/mameradipst\n",
    "* **Podmínky absolvování:** viz Course Pages :-)"
   ]
  },
  {
   "cell_type": "markdown",
   "metadata": {},
   "source": [
    "## K čemu pravděpodobnost je?\n",
    "\n",
    "**Umožňuje nám kvantifikovat spoustu nedeterministických jevů :)**\n",
    "\n",
    "- **Pravděpodobnost výhry ve Sportce a jiných sázkových hrách.**\n",
    "\n",
    "![sportka](img/sportka.jpg)\n",
    "\n",
    "- **Pravděpodobnost, že v určitém prostoru se nachází něco ztraceného, třeba [vodíková bomba](https://en.wikipedia.org/wiki/1966_Palomares_B-52_crash).**\n",
    "\n",
    "![Palomares](img/palomares.jpg)\n",
    "\n",
    "- **Nebo [letadlo](https://en.wikipedia.org/wiki/Malaysia_Airlines_Flight_370)**\n",
    "\n",
    "![mh370](img/mh370map.png)\n",
    "\n",
    "- **Nebo něco, co jsme neztratili, ale chceme najít, třeba ponorku.**\n",
    "\n",
    "![submarine](img/submarine.jpg)\n",
    "\n",
    "- **Abychom uměli odhadnout riziko vývojové vady typu [Downův syndrom](https://en.wikipedia.org/wiki/Down_syndrome), kvantifikovat pravděpodobnost [DDoS útoků](https://en.wikipedia.org/wiki/Denial-of-service_attack), [platebních podvodů na internetu](https://en.wikipedia.org/wiki/Internet_fraud), [detekovat SPAM](https://en.wikipedia.org/wiki/Anti-spam_techniques) a pro spoustu dalších užitečných věcí.**"
   ]
  },
  {
   "cell_type": "markdown",
   "metadata": {},
   "source": [
    "# Téma 1: Úvod do pravděpodobnosti"
   ]
  },
  {
   "cell_type": "markdown",
   "metadata": {},
   "source": [
    "> **Definice: Jev, prostor elementárních jevů**\n",
    ">\n",
    "> Množinu všech možných výsledků daného experimentu nazýváme *prostor elementárních jevů* (též *výběrový prostor*) a značíme ji $\\Omega$. Libovolný prvek $\\omega \\in \\Omega$ nazýváme *elementární jev*.\n",
    "\n",
    "Poměrně důležité je uvědomit si, že $\\Omega$ musí mít rozumnou **granularitu**, tj. musí být přizpůsoben danému experimentu. Pokud nás například bude zajímat pouze to, zda na PING dostaneme PONG či nikoliv, nebudeme zřejmě současně popisovat počet HOPů a tedy\n",
    "\n",
    "$$\n",
    "\\Omega = \\{\\text{PONG}, \\text{NOT_PONG}\\}.\n",
    "$$\n",
    "\n",
    "Celkem logicky tedy vyplývá i požadavek, aby jednotlivé jevy v $\\Omega$ byly vzájemně **exkluzivní**, tedy nastane-li jeden elementární jev, nenastal žádný jiný. Současně rovněž vidíme, že souhrn prvků $\\Omega$ je **vyčerpávající** popis experimentu, tj. vždy nastane nějaký jev z $\\Omega$."
   ]
  },
  {
   "cell_type": "markdown",
   "metadata": {},
   "source": [
    "Doplňme ještě následující:\n",
    "\n",
    "- $\\Omega$ je jev jistý\n",
    "- $\\omega^C$ jev opačný k jevu $\\omega$ - je tedy jeho doplňkem do $\\Omega$\n",
    "- $\\varnothing$ pro jev nemožný\n",
    "- $A \\cup B$ je jev \"A nebo B\"\n",
    "- $A \\cap B$ je jev \"A a B\"\n",
    "- $A \\setminus B$ značí \"A, ale ne B\""
   ]
  },
  {
   "cell_type": "markdown",
   "metadata": {},
   "source": [
    "### Příklad 1.3: Vyjádřete množinově příslušný výběrový prostor $\\Omega$ a následující jevy:\n",
    "\n",
    "### a) Hod jednou mincí\n",
    "\n",
    "**i) Výsledkem je hlava.**\n",
    "\n",
    "**ii) Výsledkem není orel.**\n",
    "\n",
    "**iii) Výsledkem je hlava nebo orel.**\n",
    "\n",
    "*Řešení:*\n",
    "\n",
    "$\\Omega = \\{H, O\\}$\n",
    "\n",
    "*i) $\\{H\\}$*\n",
    "\n",
    "*ii) $\\{O\\}^C = \\{H\\}$*\n",
    "\n",
    "*iii) $\\{H\\} \\cup \\{O\\} = \\Omega$*\n",
    "\n",
    "### b) Hod dvěma kostkami po sobě\n",
    "\n",
    "**i) Výsledkem je šestka na první a dvojka na druhé kostce.**\n",
    "\n",
    "**ii) Výsledkem šestka na první kostce.**\n",
    "\n",
    "**iii) Výsledkem je alespoň jedna šestka.**\n",
    "\n",
    "*Řešení:*\n",
    "\n",
    "$$\n",
    "\\begin{aligned}\n",
    "\\Omega &= \\{(1,1),\\ldots,(1,6),(2,1),\\ldots,(2,6),\\ldots,(6,6)\\} \\\\\n",
    "&= \\{1,\\ldots,6\\}^2 \\\\\n",
    "&= \\{(k_1,k_2)|k_1,k_2 = 1,\\ldots, 6\\}.\n",
    "\\end{aligned}\n",
    "$$\n",
    "\n",
    "*i) $\\{(6,2)\\}$*\n",
    "\n",
    "*ii) $\\{(6,k_2)|k_2=1,\\ldots,6\\}$*\n",
    "\n",
    "*iii) $\\{(6,k_2)|k_2=1,\\ldots,5\\} \\cup \\{(k_1,6)|k_1=1,\\ldots,5\\} \\cup \\{(6,6)\\}$*"
   ]
  },
  {
   "cell_type": "markdown",
   "metadata": {},
   "source": [
    "### Jdeme na pravděpodobnosti...\n",
    "\n",
    "#### Začneme intuicí :)\n",
    "\n",
    "Uvažujme férové (vyvážené) standardní mince a kostky.\n",
    "\n",
    "Jaká je pravděpodobnost, že\n",
    "- na minci padne orel?\n",
    "- na kostce padne šestka?\n",
    "- na kostce padne sudé číslo?\n",
    "- na dvou kostkách padne současně šestka?\n",
    "- na dvou kostkách padne současně sudé číslo?\n",
    "- házíme-li dvakrát téže kostkou, rozdíl prvního a druhého hodu je roven jedné, tj. v prvním hodu padlo o jedna vyšší číslo než ve druhém? [Př. 1.6]\n",
    "![pr. 1.6](img/priklad_jedna_vetsi.jpg)\n",
    "- při dvou hodech kostkou bude maximum z hodů větší nebo rovno 5. [Př. 1.7]\n",
    "![pr. 1.7](img/priklad_pet_vetsi.jpg)"
   ]
  },
  {
   "cell_type": "markdown",
   "metadata": {},
   "source": [
    "Intuitivně jsme přišli na následující:\n",
    "\n",
    "> **Definice: Pravděpodobnost pro rovnoměrné rozdělení konečného počtu možností**\n",
    ">\n",
    "> Je-li $\\Omega$ konečná množina a jednotlivé elementární jevy stejně pravděpodobné, potom pro libovolný jev $A$ platí\n",
    "> $$P(A) = \\frac{\\#A}{\\#\\Omega} = \\frac{\\text{počet příznivých jevů}}{\\text{počet všech jevů}}$$."
   ]
  },
  {
   "cell_type": "markdown",
   "metadata": {},
   "source": [
    "#### Intuice podruhé\n",
    "\n",
    "V počítačové hře - střílečce - se na velké obrazovce o celkové ploše $1m^2$ vyskytuje cíl o ploše $0.015m^2$. Jaká je pravděpodobnost, že náhodný výstřel \"od boku\" se stejnou pravděpodobností v celé ploše obrazovky zasáhne cíl?"
   ]
  },
  {
   "cell_type": "markdown",
   "metadata": {},
   "source": [
    "> **Definice: Geometrická definice rovnoměrné pravděpodobnosti**\n",
    ">\n",
    "> Buď $\\Omega$ libovolný prostor s konečnou mírou $\\mu$, tj. umíme zde nějak měřit (délku, plochu, čas, objem...). Pro náhodný jev $A\\in \\Omega$ platí\n",
    "> $$P(A) = \\frac{\\mu(A)}{\\mu(\\Omega)} = \\frac{\\text{velikost $A$}}{\\text{velikost $\\Omega$}}.$$"
   ]
  },
  {
   "cell_type": "markdown",
   "metadata": {},
   "source": [
    "**Příklad na geom. pst:** Na výpočetní server chodí jednou denně nezávisle na sobě a s pravděpodobností rovnoměrně rozdělenou přes celý den dva typy výpočetně náročných úloh. Server v danou chvíli řeší pouze jednu z nich, druhá čeká. Zpracování zahrnuje optimalizaci s časovým horizontem přesně 2h u prvního a přesně 3h u druhého typu. Jaká je pravděpodobnost, že bude nějaká úloha čekat?\n",
    "\n",
    "![geompst](img/geompst.jpg)"
   ]
  },
  {
   "cell_type": "markdown",
   "metadata": {},
   "source": [
    "#### Praktické využití předchozích definic: Monte Carlo odhad $\\pi$\n",
    "\n",
    "Máme odhadnout hodnotu Ludolfova čísla $\\pi$. Využijeme k tomu jednotkový kruh $K$ (analogie k oblasti $A$ v definici) těsně vepsaný do čtverce $C$ (analogie $\\Omega$) a budeme generovat náhodné vzorky $x_1$ jež rovnoměrně \"prší\" na tento systém.\n",
    "\n",
    "![mc-pi.jpg](img/mc-pi.jpg)\n",
    "\n",
    "A když budeme mít simulačně zjištěnou pravděpodobnost zásahu, jednoduše dostáváme\n",
    "\n",
    "$$\n",
    "\\pi = 4\\cdot P(x_i\\in K)\n",
    "$$\n",
    "\n",
    "Níže je simulace. Jak dokážeme vylepšit odhad?"
   ]
  },
  {
   "cell_type": "code",
   "execution_count": 45,
   "metadata": {},
   "outputs": [
    {
     "name": "stdout",
     "output_type": "stream",
     "text": [
      "Odhad pi: 3.14148\n"
     ]
    }
   ],
   "source": [
    "def estimate_pi(nsamples):\n",
    "    samples = np.random.uniform(low=-1, high=1, size=(nsamples, 2))\n",
    "    samples_dist_from_origin = np.sqrt((samples**2).sum(axis=1))\n",
    "    samples_in_circle = np.sum(samples_dist_from_origin <= 1)\n",
    "    probability = samples_in_circle / nsamples\n",
    "    pi = 4 * probability\n",
    "    return pi\n",
    "\n",
    "nsamples = 10000000\n",
    "print('Odhad pi: {0:.5f}'.format(estimate_pi(nsamples)))"
   ]
  },
  {
   "cell_type": "markdown",
   "metadata": {},
   "source": [
    "# Zaveďme trochu matematického systému...\n",
    "\n",
    "Mít $\\Omega$ jako prostor elementárních jevů je sice pěkné, ale úplně nám to nedostačuje. Jako (částeční) matematičtí vzdělanci se musíme vyjadřovat přesně a ne intuitivně. Vezměme si kostku a vidíme, že\n",
    "\n",
    "$$\n",
    "\\Omega = \\{1,2,3,4,5,6\\}.\n",
    "$$\n",
    "\n",
    "Pojďme zkusit intuitivně sestrojit nějaký systém, který nám bude výstižně popisovat následující situace včetně situací bezprostředně souvisejících a jejich pravděpodobnosti:\n",
    "\n",
    "- na kostce jistě padlo nějaké číslo, neptám se nutně jaké, ale:\n",
    "- současně navíc padlo liché číslo\n",
    "- nepadlo tedy číslo sudé\n",
    "\n",
    "Rozepište si to :) Včetně těch pravděpodobností."
   ]
  },
  {
   "cell_type": "markdown",
   "metadata": {},
   "source": [
    "> **Definice: $\\sigma$-algebra**\n",
    ">\n",
    "> Systém $\\mathcal{F}$ podmnožin $\\Omega$ nazýváme $\\sigma$-algebrou, jsou-li splněny následující podmínky:\n",
    ">\n",
    ">i) $\\Omega \\in \\mathcal{F}$,\n",
    ">\n",
    ">ii) je-li $A\\in\\mathcal{F}$, potom i $A^C \\in \\mathcal{F}$,\n",
    ">\n",
    ">iii) jsou-li $A_1,A_2,\\ldots \\in \\mathcal{F}$, potom $\\cup_{i=1}^\\infty A_i \\in \\mathcal{F}$.\n",
    "\n",
    "$\\sigma$-algebra je tedy uzavřená na doplňky a spočetná sjednocení. Lze celkem snadno ukázat, že i na spočetné průniky. V modelovém příkladě výše jsme ji navíc sestrojili - byl to systém, kterým jsme mohli výsledky experimentu vyčerpávajícím způsobem popsat, tj. nemohlo nastat nic jiného. Konkrétně $A = \\{1,3,5\\}$ byl uvažovaný jev \"padlo liché číslo\" a $\\mathcal{F}=\\{\\varnothing, A, A^C, \\Omega\\}$.\n",
    "\n",
    "S pravděpodobností jsme postupovali velmi podobně.\n",
    "\n",
    "> **Definice: Pravděpodobnostní míra**\n",
    ">\n",
    "> Pravděpodobnostní míra na $(\\Omega, \\mathcal{F})$ je funkce $P:\\mathcal{F}\\to \\mathbb{R}$, splňující:\n",
    ">\n",
    "> i) $\\forall A \\in \\mathcal{F}: P(A) \\geq 0$,\n",
    ">\n",
    "> ii) $P(\\Omega) = 1$,\n",
    ">\n",
    "> iii) pro vzájemně disjunktní $A_1, A_2,\\ldots \\in \\mathcal{F}$ platí $P\\left(\\cup_{i=1}^\\infty A_i \\right) = \\sum_{i=1}^\\infty P(A_i)$.\n",
    "\n",
    "Trojici $(\\Omega, \\mathcal{F},P)$ nazýváme **pravděpodobnostní prostor**.\n",
    "\n",
    "Pravděpodobnostní míra má tedy tyto tři vlastnosti: (i) nezápornost, (ii) normovanost a (iii) $\\sigma$-aditivitu. \n",
    "\n",
    "**Zamyslete se pořádně, jak tedy $\\sigma$-algebry a pravděpodobnostní míra fungují a k čemu jsou.**"
   ]
  },
  {
   "cell_type": "markdown",
   "metadata": {},
   "source": [
    "## Základní počítání s pravděpodobnostmi\n",
    "\n",
    "Na jevy můžeme koukat jako na množiny zobrazené Vennovým diagramem. Jev $A$ je potom nějakou podmnožinou prostoru $\\Omega$ a $P(A)$ je podíl jeho plochy vůči ploše $\\Omega$. Nejméně tedy 0 a nejvýše 1 (pro jaké jevy tyto hodnoty?).\n",
    "\n",
    "![Venn](img/venn.jpg)"
   ]
  },
  {
   "cell_type": "markdown",
   "metadata": {},
   "source": [
    "---\n",
    "\n",
    "---\n",
    "\n",
    "\n",
    "# Příklady ze cvičení\n",
    "\n",
    "**+ Procvičte si příklady z Marastu. ;)**"
   ]
  },
  {
   "cell_type": "markdown",
   "metadata": {},
   "source": [
    "### Příklad 1.1: Monty Hall problém\n",
    "\n",
    "[Monty Hall](https://en.wikipedia.org/wiki/Monty_Hall_problem) *problém je nejklasičtější pravděpodobnostní paradox, kde intuice pracuje proti svému uživateli. Dokonce tak moc, že s řešením nesouhlasili ani [slovutní matematici](https://en.wikipedia.org/wiki/Monty_Hall_problem#Confusion_and_criticism). Koukněte na wikipedii, kde je několik různých alternativních řešení :)*"
   ]
  },
  {
   "cell_type": "markdown",
   "metadata": {},
   "source": [
    "### Příklad 1.2: Dva hráči hrají hru dvěma mincemi. Na minci padne buď hlava (H) nebo orel (O). Jestliže padne na každé minci něco jiného (HO, OH), vyhraje první hráč. Padne-li na obou mincích totéž (HH, OO) vyhraje druhý hráč. Určete pravděpodobnost, že první hráč vyhraje, pokud:\n",
    "\n",
    "**a) Pravděpodobnost, že padne hlava, je $P(H) = 0.5$.**\n",
    "\n",
    "**b) Pravděpodobnost, že padne hlava, je $P(H) = p \\in (0, 1)$. Pro kterou hodnotu $p$ má první hráč největší pravděpodobnost výhry?**\n",
    "\n",
    "*Řešení:*\n",
    "\n",
    "*a) Pravděpodobnost HO a OH je $P(H0) + P(OH) = 0.5 \\cdot (1-0.5) + (1-0.5)\\cdot 0.5 = 0.5$.*\n",
    "\n",
    "*b) Hledáme maximum výrazu*\n",
    "$$\n",
    "p(1-p) + (1-p)p = 2p - 2p^2.\n",
    "$$\n",
    "\n",
    "Tedy zderivujeme, položíme rovno nule a dostáváme $p = 1/2$."
   ]
  },
  {
   "cell_type": "markdown",
   "metadata": {},
   "source": [
    "### 1.4 Dokažte, že pro libovolné jevy $A, B$ a $C$ platí\n",
    "\n",
    "**a) $P(A^C) = 1-P(A)$.**\n",
    "\n",
    "**b) Pokud $A\\subset B$, pak platí $P(A)\\leq P(B)$.**\n",
    "\n",
    "**c) Princip inkluze a exkluze pro dva jevy:**\n",
    "$$P(A\\cup B) = P(A) + P(B) - P(A\\cap B).$$\n",
    "\n",
    "**d) Princip inkluze a exkluze pro tři jevy:**\n",
    "$$\n",
    "\\begin{aligned}\n",
    "P(A\\cup B\\cup C) &= P(A) + P(B) + P(C) \\\\\n",
    "&- P(A\\cap B) - P(B\\cap C) - P(C \\cap A) \\\\\n",
    "&+ P(A\\cap B \\cap C).\n",
    "\\end{aligned}\n",
    "$$\n",
    "\n",
    "*Řešení: viz marast nebo přednáškové slajdy.*"
   ]
  },
  {
   "cell_type": "markdown",
   "metadata": {},
   "source": [
    "### 1.5 Student si musí vybrat právě dva ze tří volitelných předmětů: kreslení, francouzština, matematika. Víme, že si vybere\n",
    "\n",
    "- **kreslení s pravděpodobností 5/8,**\n",
    "- **francouzštinu s pravděpodobností 5/8,**\n",
    "- **kreslení a současně francouzštinu s pravděpodobností 1/4.**\n",
    "\n",
    "**Jaká je pravděpodobnost, že si vybere:**\n",
    "\n",
    "- **a) matematiku?**\n",
    "\n",
    "- **b) kreslení nebo matematiku?**\n",
    "\n",
    "*Řešení:*\n",
    "\n",
    "*Nejprve si sepíšeme a doplníme kompletní informace:*\n",
    "$$\n",
    "\\begin{aligned}\n",
    "P(K) &= 5/8 \\\\\n",
    "P(F) &= 5/8 \\\\\n",
    "P(K\\cap F) &= 1/4 \n",
    "\\end{aligned}\n",
    "$$\n",
    "\n",
    "*a) Jelikož matematika $M$ je doplňkový jev k $K\\cap F$ (proč?), máme $P(M) = P(\\Omega) - P(K\\cap F) = 1 - 1/4 = 3/4$.*\n",
    "\n",
    "*b) Má-li si vybrat z tříprvkové množiny dva, pak vždy nastane alespoň jeden z jevů $K$ či $M$. Zkuste si to rozepsat ve vzorečcích :)*"
   ]
  },
  {
   "cell_type": "markdown",
   "metadata": {},
   "source": [
    "### 1.8 Dvě zámořské lodě mají přijet na vykládku k rampě. Každá z lodí přijede kdykoliv během daného dne, každý čas příjezdu považujeme za stejně pravděpodobný. Lodě přijíždí nezávisle na sobě. S jakou pravděpodobností bude muset jedna z lodí čekat, jestliže vykládka jedné lodi trvá 2 hodiny a vykládka druhé trvá 3h?\n",
    "\n",
    "*Řešení: viz příklad s úlohami na serveru, čísla jsou stejná :)*"
   ]
  },
  {
   "cell_type": "markdown",
   "metadata": {},
   "source": [
    "### 1.9 Mějme cinknutou minci, tj. $P(H) = p \\in (0, 1)$. Najděte způsob, jak pomocí této mince rozhodovat s pravděpodobností 50%.\n",
    "\n",
    "*Řešení:*\n",
    "- *zkuste uvažovat dvojhody*\n",
    "- *některé výsledky by vedly k opakování hodu*\n",
    "- *některé výsledky by byly brány jako výsledek :)*\n",
    "\n",
    "*Konkrétně:*\n",
    "- *HO, OH = výsledek*\n",
    "- *HH, OO = opakovat hody*"
   ]
  }
 ],
 "metadata": {
  "kernelspec": {
   "display_name": "Python 3",
   "language": "python",
   "name": "python3"
  },
  "language_info": {
   "codemirror_mode": {
    "name": "ipython",
    "version": 3
   },
   "file_extension": ".py",
   "mimetype": "text/x-python",
   "name": "python",
   "nbconvert_exporter": "python",
   "pygments_lexer": "ipython3",
   "version": "3.7.2+"
  }
 },
 "nbformat": 4,
 "nbformat_minor": 2
}
